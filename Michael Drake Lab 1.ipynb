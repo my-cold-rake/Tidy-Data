{
 "cells": [
  {
   "cell_type": "markdown",
   "metadata": {},
   "source": [
    "## Michael Drake Lab One\n",
    "### Creating Tidy Data\n",
    "10/3/2016"
   ]
  },
  {
   "cell_type": "code",
   "execution_count": 114,
   "metadata": {
    "collapsed": true
   },
   "outputs": [],
   "source": [
    "import pandas as pd\n",
    "import numpy as np\n",
    "import matplotlib as plt\n",
    "%matplotlib inline"
   ]
  },
  {
   "cell_type": "markdown",
   "metadata": {},
   "source": [
    "Lacking a good data set, I sought out a freely available dataset online for this lab\n",
    "I chose to use plant-ant interaction data gathered by D.W. Davidson and B.L. Fisher for their 1991 paper\n",
    "'Symbiosis of ants with Cecropia as a function of light regime.\n",
    "These data are made freely available on the Interaction Web Database website\n",
    "\n",
    "This simple, though messy, data set records the number of interaction events that were observed between 6 plant species and 4 ant species\n",
    "As given on the website, the original paper sought to ' discuss why it is wrong to assume that reciprical extreme specialization is a prerequiste \n",
    "for coevolution and consider how different kinds of asymmetry in specialization lead to different forms of coevolution'"
   ]
  },
  {
   "cell_type": "code",
   "execution_count": 52,
   "metadata": {
    "collapsed": false
   },
   "outputs": [
    {
     "data": {
      "text/html": [
       "<div>\n",
       "<table border=\"1\" class=\"dataframe\">\n",
       "  <thead>\n",
       "    <tr style=\"text-align: right;\">\n",
       "      <th></th>\n",
       "      <th>plant_gen</th>\n",
       "      <th>sp</th>\n",
       "      <th>ovaticeps</th>\n",
       "      <th>xanthochroa</th>\n",
       "      <th>balzani</th>\n",
       "      <th>luteola</th>\n",
       "    </tr>\n",
       "  </thead>\n",
       "  <tbody>\n",
       "    <tr>\n",
       "      <th>0</th>\n",
       "      <td>Cecropia</td>\n",
       "      <td>membranacea</td>\n",
       "      <td>26</td>\n",
       "      <td>11</td>\n",
       "      <td>16</td>\n",
       "      <td>0</td>\n",
       "    </tr>\n",
       "    <tr>\n",
       "      <th>1</th>\n",
       "      <td>Cecropia</td>\n",
       "      <td>engleriana</td>\n",
       "      <td>5</td>\n",
       "      <td>1</td>\n",
       "      <td>0</td>\n",
       "      <td>0</td>\n",
       "    </tr>\n",
       "    <tr>\n",
       "      <th>2</th>\n",
       "      <td>Cecropia</td>\n",
       "      <td>polystachya</td>\n",
       "      <td>4</td>\n",
       "      <td>2</td>\n",
       "      <td>1</td>\n",
       "      <td>0</td>\n",
       "    </tr>\n",
       "    <tr>\n",
       "      <th>3</th>\n",
       "      <td>Cecropia</td>\n",
       "      <td>tessmannii</td>\n",
       "      <td>0</td>\n",
       "      <td>0</td>\n",
       "      <td>3</td>\n",
       "      <td>28</td>\n",
       "    </tr>\n",
       "    <tr>\n",
       "      <th>4</th>\n",
       "      <td>Cecropia</td>\n",
       "      <td>species A</td>\n",
       "      <td>0</td>\n",
       "      <td>17</td>\n",
       "      <td>0</td>\n",
       "      <td>0</td>\n",
       "    </tr>\n",
       "  </tbody>\n",
       "</table>\n",
       "</div>"
      ],
      "text/plain": [
       "  plant_gen           sp  ovaticeps  xanthochroa  balzani  luteola\n",
       "0  Cecropia  membranacea         26           11       16        0\n",
       "1  Cecropia   engleriana          5            1        0        0\n",
       "2  Cecropia  polystachya          4            2        1        0\n",
       "3  Cecropia   tessmannii          0            0        3       28\n",
       "4  Cecropia    species A          0           17        0        0"
      ]
     },
     "execution_count": 52,
     "metadata": {},
     "output_type": "execute_result"
    }
   ],
   "source": [
    "#importing data\n",
    "url = \"https://www.nceas.ucsb.edu/interactionweb/data/ant_plant/excel_matrices/davidson&fisher_1991.xls\"\n",
    "messy = pd.read_excel(url, skiprows=1)\n",
    "#imports data cuts out the uninformative first row which only contained genera names\n",
    "messy.head()"
   ]
  },
  {
   "cell_type": "code",
   "execution_count": 62,
   "metadata": {
    "collapsed": false
   },
   "outputs": [
    {
     "data": {
      "text/html": [
       "<div>\n",
       "<table border=\"1\" class=\"dataframe\">\n",
       "  <thead>\n",
       "    <tr style=\"text-align: right;\">\n",
       "      <th></th>\n",
       "      <th>sp</th>\n",
       "      <th>ovaticeps</th>\n",
       "      <th>xanthochroa</th>\n",
       "      <th>balzani</th>\n",
       "      <th>luteola</th>\n",
       "    </tr>\n",
       "  </thead>\n",
       "  <tbody>\n",
       "    <tr>\n",
       "      <th>0</th>\n",
       "      <td>membranacea</td>\n",
       "      <td>26</td>\n",
       "      <td>11</td>\n",
       "      <td>16</td>\n",
       "      <td>0</td>\n",
       "    </tr>\n",
       "    <tr>\n",
       "      <th>1</th>\n",
       "      <td>engleriana</td>\n",
       "      <td>5</td>\n",
       "      <td>1</td>\n",
       "      <td>0</td>\n",
       "      <td>0</td>\n",
       "    </tr>\n",
       "    <tr>\n",
       "      <th>2</th>\n",
       "      <td>polystachya</td>\n",
       "      <td>4</td>\n",
       "      <td>2</td>\n",
       "      <td>1</td>\n",
       "      <td>0</td>\n",
       "    </tr>\n",
       "    <tr>\n",
       "      <th>3</th>\n",
       "      <td>tessmannii</td>\n",
       "      <td>0</td>\n",
       "      <td>0</td>\n",
       "      <td>3</td>\n",
       "      <td>28</td>\n",
       "    </tr>\n",
       "    <tr>\n",
       "      <th>4</th>\n",
       "      <td>species A</td>\n",
       "      <td>0</td>\n",
       "      <td>17</td>\n",
       "      <td>0</td>\n",
       "      <td>0</td>\n",
       "    </tr>\n",
       "  </tbody>\n",
       "</table>\n",
       "</div>"
      ],
      "text/plain": [
       "            sp  ovaticeps  xanthochroa  balzani  luteola\n",
       "0  membranacea         26           11       16        0\n",
       "1   engleriana          5            1        0        0\n",
       "2  polystachya          4            2        1        0\n",
       "3   tessmannii          0            0        3       28\n",
       "4    species A          0           17        0        0"
      ]
     },
     "execution_count": 62,
     "metadata": {},
     "output_type": "execute_result"
    }
   ],
   "source": [
    "#This removes the uninformative first column which only contained pollinator genera names\n",
    "messy2 = messy.drop('plant_gen', 1)\n",
    "messy2.head()"
   ]
  },
  {
   "cell_type": "code",
   "execution_count": 68,
   "metadata": {
    "collapsed": false
   },
   "outputs": [
    {
     "data": {
      "text/html": [
       "<div>\n",
       "<table border=\"1\" class=\"dataframe\">\n",
       "  <thead>\n",
       "    <tr style=\"text-align: right;\">\n",
       "      <th></th>\n",
       "      <th>sp</th>\n",
       "      <th>Ant Species</th>\n",
       "      <th># of Interactions</th>\n",
       "    </tr>\n",
       "  </thead>\n",
       "  <tbody>\n",
       "    <tr>\n",
       "      <th>1</th>\n",
       "      <td>engleriana</td>\n",
       "      <td>ovaticeps</td>\n",
       "      <td>5</td>\n",
       "    </tr>\n",
       "    <tr>\n",
       "      <th>19</th>\n",
       "      <td>engleriana</td>\n",
       "      <td>luteola</td>\n",
       "      <td>0</td>\n",
       "    </tr>\n",
       "    <tr>\n",
       "      <th>13</th>\n",
       "      <td>engleriana</td>\n",
       "      <td>balzani</td>\n",
       "      <td>0</td>\n",
       "    </tr>\n",
       "    <tr>\n",
       "      <th>7</th>\n",
       "      <td>engleriana</td>\n",
       "      <td>xanthochroa</td>\n",
       "      <td>1</td>\n",
       "    </tr>\n",
       "    <tr>\n",
       "      <th>11</th>\n",
       "      <td>ficifolia</td>\n",
       "      <td>xanthochroa</td>\n",
       "      <td>12</td>\n",
       "    </tr>\n",
       "  </tbody>\n",
       "</table>\n",
       "</div>"
      ],
      "text/plain": [
       "            sp  Ant Species  # of Interactions\n",
       "1   engleriana    ovaticeps                  5\n",
       "19  engleriana      luteola                  0\n",
       "13  engleriana      balzani                  0\n",
       "7   engleriana  xanthochroa                  1\n",
       "11   ficifolia  xanthochroa                 12"
      ]
     },
     "execution_count": 68,
     "metadata": {},
     "output_type": "execute_result"
    }
   ],
   "source": [
    "#Let's melt up this data!\n",
    "#We're going to put all of the interaction encounters into a single column, indexed by plant and animal species\n",
    "tidy = pd.melt(messy2, id_vars = ['sp'], var_name='Ant Species', value_name='# of Interactions')\n",
    "tidy.sort_values(by=['sp'], inplace=True)\n",
    "tidy.head()"
   ]
  },
  {
   "cell_type": "code",
   "execution_count": 86,
   "metadata": {
    "collapsed": false,
    "scrolled": true
   },
   "outputs": [
    {
     "data": {
      "text/html": [
       "<div>\n",
       "<table border=\"1\" class=\"dataframe\">\n",
       "  <thead>\n",
       "    <tr style=\"text-align: right;\">\n",
       "      <th></th>\n",
       "      <th>Plant Species</th>\n",
       "      <th>Ant Species</th>\n",
       "      <th># of Interactions</th>\n",
       "    </tr>\n",
       "  </thead>\n",
       "  <tbody>\n",
       "    <tr>\n",
       "      <th>1</th>\n",
       "      <td>engleriana</td>\n",
       "      <td>ovaticeps</td>\n",
       "      <td>5</td>\n",
       "    </tr>\n",
       "    <tr>\n",
       "      <th>19</th>\n",
       "      <td>engleriana</td>\n",
       "      <td>luteola</td>\n",
       "      <td>0</td>\n",
       "    </tr>\n",
       "    <tr>\n",
       "      <th>13</th>\n",
       "      <td>engleriana</td>\n",
       "      <td>balzani</td>\n",
       "      <td>0</td>\n",
       "    </tr>\n",
       "    <tr>\n",
       "      <th>7</th>\n",
       "      <td>engleriana</td>\n",
       "      <td>xanthochroa</td>\n",
       "      <td>1</td>\n",
       "    </tr>\n",
       "    <tr>\n",
       "      <th>11</th>\n",
       "      <td>ficifolia</td>\n",
       "      <td>xanthochroa</td>\n",
       "      <td>12</td>\n",
       "    </tr>\n",
       "    <tr>\n",
       "      <th>17</th>\n",
       "      <td>ficifolia</td>\n",
       "      <td>balzani</td>\n",
       "      <td>12</td>\n",
       "    </tr>\n",
       "    <tr>\n",
       "      <th>23</th>\n",
       "      <td>ficifolia</td>\n",
       "      <td>luteola</td>\n",
       "      <td>0</td>\n",
       "    </tr>\n",
       "    <tr>\n",
       "      <th>5</th>\n",
       "      <td>ficifolia</td>\n",
       "      <td>ovaticeps</td>\n",
       "      <td>0</td>\n",
       "    </tr>\n",
       "    <tr>\n",
       "      <th>18</th>\n",
       "      <td>membranacea</td>\n",
       "      <td>luteola</td>\n",
       "      <td>0</td>\n",
       "    </tr>\n",
       "    <tr>\n",
       "      <th>6</th>\n",
       "      <td>membranacea</td>\n",
       "      <td>xanthochroa</td>\n",
       "      <td>11</td>\n",
       "    </tr>\n",
       "    <tr>\n",
       "      <th>12</th>\n",
       "      <td>membranacea</td>\n",
       "      <td>balzani</td>\n",
       "      <td>16</td>\n",
       "    </tr>\n",
       "    <tr>\n",
       "      <th>0</th>\n",
       "      <td>membranacea</td>\n",
       "      <td>ovaticeps</td>\n",
       "      <td>26</td>\n",
       "    </tr>\n",
       "    <tr>\n",
       "      <th>14</th>\n",
       "      <td>polystachya</td>\n",
       "      <td>balzani</td>\n",
       "      <td>1</td>\n",
       "    </tr>\n",
       "    <tr>\n",
       "      <th>8</th>\n",
       "      <td>polystachya</td>\n",
       "      <td>xanthochroa</td>\n",
       "      <td>2</td>\n",
       "    </tr>\n",
       "    <tr>\n",
       "      <th>2</th>\n",
       "      <td>polystachya</td>\n",
       "      <td>ovaticeps</td>\n",
       "      <td>4</td>\n",
       "    </tr>\n",
       "    <tr>\n",
       "      <th>20</th>\n",
       "      <td>polystachya</td>\n",
       "      <td>luteola</td>\n",
       "      <td>0</td>\n",
       "    </tr>\n",
       "    <tr>\n",
       "      <th>10</th>\n",
       "      <td>species A</td>\n",
       "      <td>xanthochroa</td>\n",
       "      <td>17</td>\n",
       "    </tr>\n",
       "    <tr>\n",
       "      <th>4</th>\n",
       "      <td>species A</td>\n",
       "      <td>ovaticeps</td>\n",
       "      <td>0</td>\n",
       "    </tr>\n",
       "    <tr>\n",
       "      <th>16</th>\n",
       "      <td>species A</td>\n",
       "      <td>balzani</td>\n",
       "      <td>0</td>\n",
       "    </tr>\n",
       "    <tr>\n",
       "      <th>22</th>\n",
       "      <td>species A</td>\n",
       "      <td>luteola</td>\n",
       "      <td>0</td>\n",
       "    </tr>\n",
       "    <tr>\n",
       "      <th>9</th>\n",
       "      <td>tessmannii</td>\n",
       "      <td>xanthochroa</td>\n",
       "      <td>0</td>\n",
       "    </tr>\n",
       "    <tr>\n",
       "      <th>3</th>\n",
       "      <td>tessmannii</td>\n",
       "      <td>ovaticeps</td>\n",
       "      <td>0</td>\n",
       "    </tr>\n",
       "    <tr>\n",
       "      <th>21</th>\n",
       "      <td>tessmannii</td>\n",
       "      <td>luteola</td>\n",
       "      <td>28</td>\n",
       "    </tr>\n",
       "    <tr>\n",
       "      <th>15</th>\n",
       "      <td>tessmannii</td>\n",
       "      <td>balzani</td>\n",
       "      <td>3</td>\n",
       "    </tr>\n",
       "  </tbody>\n",
       "</table>\n",
       "</div>"
      ],
      "text/plain": [
       "   Plant Species  Ant Species  # of Interactions\n",
       "1     engleriana    ovaticeps                  5\n",
       "19    engleriana      luteola                  0\n",
       "13    engleriana      balzani                  0\n",
       "7     engleriana  xanthochroa                  1\n",
       "11     ficifolia  xanthochroa                 12\n",
       "17     ficifolia      balzani                 12\n",
       "23     ficifolia      luteola                  0\n",
       "5      ficifolia    ovaticeps                  0\n",
       "18   membranacea      luteola                  0\n",
       "6    membranacea  xanthochroa                 11\n",
       "12   membranacea      balzani                 16\n",
       "0    membranacea    ovaticeps                 26\n",
       "14   polystachya      balzani                  1\n",
       "8    polystachya  xanthochroa                  2\n",
       "2    polystachya    ovaticeps                  4\n",
       "20   polystachya      luteola                  0\n",
       "10     species A  xanthochroa                 17\n",
       "4      species A    ovaticeps                  0\n",
       "16     species A      balzani                  0\n",
       "22     species A      luteola                  0\n",
       "9     tessmannii  xanthochroa                  0\n",
       "3     tessmannii    ovaticeps                  0\n",
       "21    tessmannii      luteola                 28\n",
       "15    tessmannii      balzani                  3"
      ]
     },
     "execution_count": 86,
     "metadata": {},
     "output_type": "execute_result"
    }
   ],
   "source": [
    "#Rename column headings\n",
    "tidy.columns = ['Plant Species','Ant Species','# of Interactions']\n",
    "tidy"
   ]
  },
  {
   "cell_type": "markdown",
   "metadata": {},
   "source": [
    "## Let's make a ***pretty*** plot to see which plant species gets the most visitors"
   ]
  },
  {
   "cell_type": "code",
   "execution_count": 123,
   "metadata": {
    "collapsed": false
   },
   "outputs": [
    {
     "data": {
      "text/html": [
       "<div>\n",
       "<table border=\"1\" class=\"dataframe\">\n",
       "  <thead>\n",
       "    <tr style=\"text-align: right;\">\n",
       "      <th></th>\n",
       "      <th># of Interactions</th>\n",
       "    </tr>\n",
       "    <tr>\n",
       "      <th>Plant Species</th>\n",
       "      <th></th>\n",
       "    </tr>\n",
       "  </thead>\n",
       "  <tbody>\n",
       "    <tr>\n",
       "      <th>engleriana</th>\n",
       "      <td>6</td>\n",
       "    </tr>\n",
       "    <tr>\n",
       "      <th>ficifolia</th>\n",
       "      <td>24</td>\n",
       "    </tr>\n",
       "    <tr>\n",
       "      <th>membranacea</th>\n",
       "      <td>53</td>\n",
       "    </tr>\n",
       "    <tr>\n",
       "      <th>polystachya</th>\n",
       "      <td>7</td>\n",
       "    </tr>\n",
       "    <tr>\n",
       "      <th>species A</th>\n",
       "      <td>17</td>\n",
       "    </tr>\n",
       "    <tr>\n",
       "      <th>tessmannii</th>\n",
       "      <td>31</td>\n",
       "    </tr>\n",
       "  </tbody>\n",
       "</table>\n",
       "</div>"
      ],
      "text/plain": [
       "               # of Interactions\n",
       "Plant Species                   \n",
       "engleriana                     6\n",
       "ficifolia                     24\n",
       "membranacea                   53\n",
       "polystachya                    7\n",
       "species A                     17\n",
       "tessmannii                    31"
      ]
     },
     "execution_count": 123,
     "metadata": {},
     "output_type": "execute_result"
    }
   ],
   "source": [
    "#Here we collapse our interaction data down to just the plant species\n",
    "plotdat = tidy.groupby('Plant Species').sum()\n",
    "plotdat"
   ]
  },
  {
   "cell_type": "code",
   "execution_count": 125,
   "metadata": {
    "collapsed": false
   },
   "outputs": [
    {
     "data": {
      "text/plain": [
       "<matplotlib.axes._subplots.AxesSubplot at 0x19e169bf240>"
      ]
     },
     "execution_count": 125,
     "metadata": {},
     "output_type": "execute_result"
    },
    {
     "data": {
      "image/png": "[encoded data removed]",
      "text/plain": [
       "<matplotlib.figure.Figure at 0x19e16abc240>"
      ]
     },
     "metadata": {},
     "output_type": "display_data"
    }
   ],
   "source": [
    "#Makes a nice little bar plot.  Looks like membranacea gets the most ants!\n",
    "plotdat.plot.bar(y='# of Interactions')"
   ]
  },
  {
   "cell_type": "markdown",
   "metadata": {},
   "source": [
    "\n",
    "    "
   ]
  },
  {
   "cell_type": "markdown",
   "metadata": {},
   "source": [
    "The plot isn't as informative when we keep the data divided by plants **and** by ants"
   ]
  },
  {
   "cell_type": "code",
   "execution_count": 127,
   "metadata": {
    "collapsed": false
   },
   "outputs": [
    {
     "data": {
      "text/plain": [
       "<matplotlib.axes._subplots.AxesSubplot at 0x19e16cb7c18>"
      ]
     },
     "execution_count": 127,
     "metadata": {},
     "output_type": "execute_result"
    },
    {
     "data": {
      "image/png": "[encoded data removed]",
      "text/plain": [
       "<matplotlib.figure.Figure at 0x19e16ac1e10>"
      ]
     },
     "metadata": {},
     "output_type": "display_data"
    }
   ],
   "source": [
    "tidy.plot(x='Plant Species',y='# of Interactions')"
   ]
  },
  {
   "cell_type": "markdown",
   "metadata": {},
   "source": [
    "To wrap things up, here is an example of an equation **$e=mc^2$**"
   ]
  }
 ],
 "metadata": {
  "kernelspec": {
   "display_name": "Python [conda root]",
   "language": "python",
   "name": "conda-root-py"
  },
  "language_info": {
   "codemirror_mode": {
    "name": "ipython",
    "version": 3
   },
   "file_extension": ".py",
   "mimetype": "text/x-python",
   "name": "python",
   "nbconvert_exporter": "python",
   "pygments_lexer": "ipython3",
   "version": "3.5.2"
  }
 },
 "nbformat": 4,
 "nbformat_minor": 1
}
